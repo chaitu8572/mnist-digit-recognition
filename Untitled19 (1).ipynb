{
 "cells": [
  {
   "cell_type": "markdown",
   "id": "4e5aac59",
   "metadata": {},
   "source": [
    "# Mnist digit recognition using CNN and openCV\n"
   ]
  },
  {
   "cell_type": "markdown",
   "id": "e04c92d5",
   "metadata": {},
   "source": [
    "# Importing datasets from tensorflow"
   ]
  },
  {
   "cell_type": "code",
   "execution_count": null,
   "id": "c7c3152d",
   "metadata": {},
   "outputs": [],
   "source": [
    "from tensorflow.keras import datasets\n",
    "import matplotlib.pyplot as plt\n",
    "import numpy as np\n",
    "import keras"
   ]
  },
  {
   "cell_type": "markdown",
   "id": "2dc9c54c",
   "metadata": {},
   "source": [
    "# Loading the data"
   ]
  },
  {
   "cell_type": "code",
   "execution_count": 3,
   "id": "c626e935",
   "metadata": {},
   "outputs": [],
   "source": [
    "(x_train,y_train),(x_test,y_test)=datasets.mnist.load_data()"
   ]
  },
  {
   "cell_type": "markdown",
   "id": "eab9a7ef",
   "metadata": {},
   "source": [
    "# Data standardization "
   ]
  },
  {
   "cell_type": "code",
   "execution_count": 4,
   "id": "7d7a8a81",
   "metadata": {},
   "outputs": [
    {
     "data": {
      "text/plain": [
       "(28, 28)"
      ]
     },
     "execution_count": 4,
     "metadata": {},
     "output_type": "execute_result"
    }
   ],
   "source": [
    "x_train=x_train/255\n",
    "x_test=x_test/255\n",
    "x_train[2].shape"
   ]
  },
  {
   "cell_type": "markdown",
   "id": "36ef1a59",
   "metadata": {},
   "source": [
    "# Reshaping the data "
   ]
  },
  {
   "cell_type": "code",
   "execution_count": 5,
   "id": "6f6f89e2",
   "metadata": {},
   "outputs": [
    {
     "data": {
      "text/plain": [
       "(28, 28, 1)"
      ]
     },
     "execution_count": 5,
     "metadata": {},
     "output_type": "execute_result"
    }
   ],
   "source": [
    "\n",
    "x_train = x_train.reshape(-1, 28, 28, 1)\n",
    "x_test = x_test.reshape(-1, 28, 28, 1)\n",
    "x_train[9].shape"
   ]
  },
  {
   "cell_type": "code",
   "execution_count": 6,
   "id": "2826ce4c",
   "metadata": {},
   "outputs": [],
   "source": [
    "classes=['zero.png','one.jpg','two.jpg','three.png','fourr.png','five.png','six.png','seven.png','eight.png','nine.jpg']"
   ]
  },
  {
   "cell_type": "markdown",
   "id": "c6eec94a",
   "metadata": {},
   "source": [
    "# Data visualiztion using matplotlib"
   ]
  },
  {
   "cell_type": "code",
   "execution_count": 7,
   "id": "028e58f9",
   "metadata": {},
   "outputs": [
    {
     "data": {
      "text/plain": [
       "'three.png'"
      ]
     },
     "execution_count": 7,
     "metadata": {},
     "output_type": "execute_result"
    },
    {
     "data": {
      "image/png": "[encoded data removed]",
      "text/plain": [
       "<Figure size 432x288 with 1 Axes>"
      ]
     },
     "metadata": {
      "needs_background": "light"
     },
     "output_type": "display_data"
    }
   ],
   "source": [
    "%matplotlib inline\n",
    "plt.imshow(x_train[30])\n",
    "classes[y_train[30]]"
   ]
  },
  {
   "cell_type": "markdown",
   "id": "9721fc24",
   "metadata": {},
   "source": [
    "# Creating the CNN model"
   ]
  },
  {
   "cell_type": "code",
   "execution_count": 8,
   "id": "cd256ac2",
   "metadata": {},
   "outputs": [],
   "source": [
    "cnn=tf.keras.models.Sequential()\n",
    "cnn.add(tf.keras.layers.Conv2D(filters=32,kernel_size=(3,3),activation='relu',input_shape=[28,28,1]))\n",
    "cnn.add(tf.keras.layers.MaxPool2D(pool_size=2,strides=2))\n",
    "cnn.add(tf.keras.layers.Conv2D(filters=32,kernel_size=(3,3),activation='relu'))\n",
    "cnn.add(tf.keras.layers.MaxPool2D(pool_size=2,strides=2))\n",
    "cnn.add(tf.keras.layers.Dropout(0.2))\n",
    "cnn.add(tf.keras.layers.Flatten())\n",
    "cnn.add(tf.keras.layers.Dense(units=128,activation='relu'))\n",
    "cnn.add(tf.keras.layers.Dense(units=10,activation='softmax'))\n",
    "cnn.compile(optimizer='adam',loss='sparse_categorical_crossentropy',metrics=['accuracy'])"
   ]
  },
  {
   "cell_type": "markdown",
   "id": "ebfd9e65",
   "metadata": {},
   "source": [
    "# Training the model"
   ]
  },
  {
   "cell_type": "code",
   "execution_count": 17,
   "id": "27872951",
   "metadata": {},
   "outputs": [
    {
     "name": "stdout",
     "output_type": "stream",
     "text": [
      "Epoch 1/10\n",
      "1875/1875 [==============================] - 33s 17ms/step - loss: 0.0121 - accuracy: 0.9959\n",
      "Epoch 2/10\n",
      "1875/1875 [==============================] - 30s 16ms/step - loss: 0.0111 - accuracy: 0.9962\n",
      "Epoch 3/10\n",
      "1875/1875 [==============================] - 30s 16ms/step - loss: 0.0088 - accuracy: 0.9972\n",
      "Epoch 4/10\n",
      "1875/1875 [==============================] - 33s 18ms/step - loss: 0.0107 - accuracy: 0.9961\n",
      "Epoch 5/10\n",
      "1875/1875 [==============================] - 33s 17ms/step - loss: 0.0088 - accuracy: 0.9970\n",
      "Epoch 6/10\n",
      "1875/1875 [==============================] - 30s 16ms/step - loss: 0.0085 - accuracy: 0.9970\n",
      "Epoch 7/10\n",
      "1875/1875 [==============================] - 32s 17ms/step - loss: 0.0088 - accuracy: 0.9970\n",
      "Epoch 8/10\n",
      "1875/1875 [==============================] - 32s 17ms/step - loss: 0.0073 - accuracy: 0.9976\n",
      "Epoch 9/10\n",
      "1875/1875 [==============================] - 30s 16ms/step - loss: 0.0076 - accuracy: 0.9976\n",
      "Epoch 10/10\n",
      "1875/1875 [==============================] - 31s 17ms/step - loss: 0.0065 - accuracy: 0.9977\n"
     ]
    },
    {
     "data": {
      "text/plain": [
       "<tensorflow.python.keras.callbacks.History at 0x165b1f67850>"
      ]
     },
     "execution_count": 17,
     "metadata": {},
     "output_type": "execute_result"
    }
   ],
   "source": [
    "cnn.fit(x=x_train,y=y_train,epochs=10)"
   ]
  },
  {
   "cell_type": "markdown",
   "id": "32bad4e0",
   "metadata": {},
   "source": [
    "# Using openCV for reading and displaying the testing image."
   ]
  },
  {
   "cell_type": "code",
   "execution_count": 10,
   "id": "2adf75b8",
   "metadata": {},
   "outputs": [],
   "source": [
    "import cv2"
   ]
  },
  {
   "cell_type": "code",
   "execution_count": 11,
   "id": "733511a8",
   "metadata": {},
   "outputs": [
    {
     "name": "stdout",
     "output_type": "stream",
     "text": [
      "313/313 [==============================] - 2s 5ms/step - loss: 0.0301 - accuracy: 0.9912\n"
     ]
    },
    {
     "data": {
      "text/plain": [
       "[0.030053379014134407, 0.9911999702453613]"
      ]
     },
     "execution_count": 11,
     "metadata": {},
     "output_type": "execute_result"
    }
   ],
   "source": [
    "cnn.evaluate(x_test, y_test)"
   ]
  },
  {
   "cell_type": "code",
   "execution_count": 16,
   "id": "289a68cc",
   "metadata": {},
   "outputs": [],
   "source": [
    "from keras.preprocessing import image\n",
    "drawing = False # true if mouse is pressed\n",
    "mode = True # if True, draw rectangle. Press 'm' to toggle to curve\n",
    "ix,iy = -1,-1\n",
    "# mouse callback function\n",
    "def draw_circle(event,x,y,flags,param):\n",
    "    global ix,iy,drawing,mode\n",
    "    if event == cv2.EVENT_LBUTTONDOWN:\n",
    "        drawing = True\n",
    "        ix,iy = x,y\n",
    "    elif event == cv2.EVENT_MOUSEMOVE:\n",
    "        if drawing == True:\n",
    "            if mode == True:\n",
    "                cv2.circle(img,(x,y),9,(0,0,255),-1)\n",
    "            else:\n",
    "                cv2.circle(img,(x,y),9,(0,0,255),-1)\n",
    "    elif event == cv2.EVENT_LBUTTONUP:\n",
    "        drawing = False\n",
    "        if mode == True:\n",
    "            cv2.circle(img,(x,y),9,(0,0,255),-1)\n",
    "        else:\n",
    "            cv2.circle(img,(x,y),9,(0,0,255),-1)\n",
    "img = np.zeros((300,300,3), np.uint8)\n",
    "cv2.namedWindow('image')\n",
    "cv2.setMouseCallback('image',draw_circle)\n",
    "while(1):\n",
    "    \n",
    "    cv2.imshow('image',img)\n",
    "    if cv2.waitKey(2) & 0xFF == ord('q'):\n",
    "        mode = not mode\n",
    "    elif cv2.waitKey(2) & 0xFF == ord('s'):\n",
    "        cv2.imwrite('digit.png',img)\n",
    "        ima=cv2.imread('digit.png')\n",
    "        ima=cv2.cvtColor(ima,cv2.COLOR_BGR2GRAY)\n",
    "        ima=cv2.resize(ima,dsize=(28,28)ss)\n",
    "        ima=ima.reshape(28,28,1)\n",
    "        ima=np.expand_dims(ima,axis=0)\n",
    "        imd=cv2.imread(classes[np.argmax(cnn.predict(ima/255))])\n",
    "      \n",
    "        break\n",
    "cv2.destroyAllWindows()\n",
    "\n",
    "cv2.imshow('your digit is',imd)\n",
    "cv2.waitKey(0)\n",
    "cv2.destroyAllWindows()"
   ]
  },
  {
   "cell_type": "code",
   "execution_count": null,
   "id": "8a2e8bc2",
   "metadata": {},
   "outputs": [],
   "source": []
  },
  {
   "cell_type": "code",
   "execution_count": null,
   "id": "18a63df3",
   "metadata": {},
   "outputs": [],
   "source": []
  },
  {
   "cell_type": "code",
   "execution_count": null,
   "id": "7b2a3a0f",
   "metadata": {},
   "outputs": [],
   "source": []
  }
 ],
 "metadata": {
  "kernelspec": {
   "display_name": "Python 3 (ipykernel)",
   "language": "python",
   "name": "python3"
  },
  "language_info": {
   "codemirror_mode": {
    "name": "ipython",
    "version": 3
   },
   "file_extension": ".py",
   "mimetype": "text/x-python",
   "name": "python",
   "nbconvert_exporter": "python",
   "pygments_lexer": "ipython3",
   "version": "3.8.11"
  }
 },
 "nbformat": 4,
 "nbformat_minor": 5
}
